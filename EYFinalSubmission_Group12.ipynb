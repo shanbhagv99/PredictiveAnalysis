{
 "cells": [
  {
   "cell_type": "markdown",
   "id": "51f36fc0-e2c3-4c1a-8ab2-267821fa6a46",
   "metadata": {},
   "source": [
    "Group 12:\n",
    "Vinayak Shanbhag\n",
    "Arnav Raina\n",
    "Anudeep Alluri\n",
    "Mounika \n",
    "\n",
    "Frog Occurrence Prediction using Climate Data\n",
    "This notebook trains a Random Forest model on climate variables extracted from a raster TIFF file to predict frog presence. The notebook includes data preprocessing, feature extraction, model training, and prediction generation."
   ]
  },
  {
   "cell_type": "code",
   "execution_count": 2,
   "id": "01fd38b5-7e0c-4127-8bfe-5caa44007daf",
   "metadata": {},
   "outputs": [],
   "source": [
    "#Importing and loading the essential libraries\n",
    "import pandas as pd\n",
    "import numpy as np\n",
    "from sklearn.preprocessing import StandardScaler\n",
    "from sklearn.model_selection import train_test_split\n",
    "from sklearn.metrics import accuracy_score, classification_report, confusion_matrix\n",
    "from sklearn.ensemble import RandomForestClassifier\n",
    "from xgboost import XGBClassifier\n",
    "import rasterio\n",
    "from rasterio.transform import rowcol\n",
    "from scipy.stats import zscore\n",
    "from scipy.stats import randint\n",
    "from sklearn.model_selection import RandomizedSearchCV\n",
    "from sklearn.model_selection import StratifiedKFold"
   ]
  },
  {
   "cell_type": "markdown",
   "id": "b509b58d-2417-40a5-8228-a05e1477bfe3",
   "metadata": {},
   "source": [
    "Step 1: Load and Prepare Data\n",
    "Read in training and validation data, and extract the associated climate variables using raster-based lookup."
   ]
  },
  {
   "cell_type": "code",
   "execution_count": 4,
   "id": "3bac9d17-01bf-4aab-8453-63e4c3c74326",
   "metadata": {},
   "outputs": [],
   "source": [
    "# Location where the tiff file that contains all climate varibles for each loaction is available \n",
    "tiff_path = \"/Users/vinayakshanbhag/Downloads/TerraClimate_output.tiff\"\n",
    "\n",
    "# Function to load climate data of a dataset containing latitude and longitude \n",
    "# This is used to extract climate variables for both training set and validation set\n",
    "def extract_climate(df, tiff_path):\n",
    "    with rasterio.open(tiff_path) as src:\n",
    "        bands = [src.read(i) for i in range(1, src.count + 1)]\n",
    "        extracted = []\n",
    "        for _, row in df.iterrows():\n",
    "            lon, lat = row[\"Longitude\"], row[\"Latitude\"]\n",
    "            try:\n",
    "                r, c = rowcol(src.transform, lon, lat)\n",
    "                pixel_vals = [bands[b][r, c] for b in range(len(bands))]\n",
    "            except:\n",
    "                pixel_vals = [np.nan] * len(bands)\n",
    "            extracted.append(pixel_vals)\n",
    "\n",
    "    climate_vars = ['aet', 'def', 'pdsi', 'pet', 'ppt', 'q',\n",
    "                    'soil', 'srad', 'swe', 'tmax', 'tmin', 'vap', 'vpd', 'ws']\n",
    "    climate_df = pd.DataFrame(extracted, columns=climate_vars)\n",
    "    climate_df[\"Latitude\"] = df[\"Latitude\"].values\n",
    "    climate_df[\"Longitude\"] = df[\"Longitude\"].values\n",
    "    return climate_df"
   ]
  },
  {
   "cell_type": "code",
   "execution_count": 5,
   "id": "84f7dfea-280e-4218-a07a-712992e7dfcf",
   "metadata": {},
   "outputs": [
    {
     "name": "stdout",
     "output_type": "stream",
     "text": [
      "Climate (Training) Data Shape: (6312, 16)\n",
      "         aet         def  pdsi         pet   ppt    q       soil        srad  \\\n",
      "0  53.500000   65.300003  -4.5  115.500000  49.7  2.5  16.700001  200.799149   \n",
      "1  24.800001  110.800003  -3.9  143.100006  26.0  1.3   2.500000  217.699799   \n",
      "2  51.299999   28.200001  -3.8  115.099998  69.9  3.5  68.800003  204.000031   \n",
      "3  41.000000   67.300003  -4.7  120.700005  45.0  2.3  11.300000  204.400146   \n",
      "4  58.900002   29.500000  -4.8  109.500000  71.1  3.6  43.000000  189.203964   \n",
      "\n",
      "   swe       tmax       tmin    vap   vpd   ws   Latitude   Longitude  \n",
      "0  0.0  23.900000  12.599999  1.233  0.81  3.6 -34.027900  150.771000  \n",
      "1  0.0  24.400000  10.700000  0.938  1.28  3.1 -34.821595  147.193697  \n",
      "2  0.0  21.400000   8.099999  0.942  0.78  3.2 -36.617759  146.882941  \n",
      "3  0.0  20.199999   8.000000  0.951  0.70  4.4 -37.470900  144.744000  \n",
      "4  0.0  18.900000   9.900000  1.096  0.50  5.6 -38.400153  145.018560  \n"
     ]
    }
   ],
   "source": [
    "# Load Datasets\n",
    "train_df = pd.read_csv(\"/Users/vinayakshanbhag/Downloads/Training_Data.csv\")\n",
    "val_df = pd.read_csv(\"/Users/vinayakshanbhag/Downloads/Validation_Template.csv\")\n",
    "\n",
    "train_climate = extract_climate(train_df, tiff_path)\n",
    "val_climate = extract_climate(val_df, tiff_path)\n",
    "\n",
    "# Ensure df_climate is correctly processed from the TIFF file\n",
    "print(\"Climate (Training) Data Shape:\", train_climate.shape)\n",
    "print(train_climate.head())"
   ]
  },
  {
   "cell_type": "code",
   "execution_count": 6,
   "id": "aaf9c56e-021f-4ceb-87db-9d2822d9eca3",
   "metadata": {},
   "outputs": [
    {
     "name": "stdout",
     "output_type": "stream",
     "text": [
      "Climate Data Shape: (6295, 17)\n",
      "    Latitude   Longitude  Occurrence Status        aet         def  pdsi  \\\n",
      "0 -34.027900  150.771000                  1  53.500000   65.300003  -4.5   \n",
      "1 -34.821595  147.193697                  1  24.800001  110.800003  -3.9   \n",
      "2 -36.617759  146.882941                  0  51.299999   28.200001  -3.8   \n",
      "3 -37.470900  144.744000                  1  41.000000   67.300003  -4.7   \n",
      "4 -38.400153  145.018560                  1  58.900002   29.500000  -4.8   \n",
      "\n",
      "          pet   ppt    q       soil        srad  swe       tmax       tmin  \\\n",
      "0  115.500000  49.7  2.5  16.700001  200.799149  0.0  23.900000  12.599999   \n",
      "1  143.100006  26.0  1.3   2.500000  217.699799  0.0  24.400000  10.700000   \n",
      "2  115.099998  69.9  3.5  68.800003  204.000031  0.0  21.400000   8.099999   \n",
      "3  120.700005  45.0  2.3  11.300000  204.400146  0.0  20.199999   8.000000   \n",
      "4  109.500000  71.1  3.6  43.000000  189.203964  0.0  18.900000   9.900000   \n",
      "\n",
      "     vap   vpd   ws  \n",
      "0  1.233  0.81  3.6  \n",
      "1  0.938  1.28  3.1  \n",
      "2  0.942  0.78  3.2  \n",
      "3  0.951  0.70  4.4  \n",
      "4  1.096  0.50  5.6  \n"
     ]
    }
   ],
   "source": [
    "# Merge datasets to train the model on this datset that contains climate variables and occurences for each latitude and longitude values\n",
    "\n",
    "# Merge and drop values with null values\n",
    "train_merged = pd.merge(train_df, train_climate, on=[\"Latitude\", \"Longitude\"]).dropna()\n",
    "# Merge exactly with original validation template\n",
    "val_merged = pd.merge(val_df, val_climate, on=[\"Latitude\", \"Longitude\"], how=\"left\")\n",
    "\n",
    "# Drop any NaNs and keep order\n",
    "val_merged = val_merged.dropna().reset_index(drop=True)\n",
    "\n",
    "# Ensure train_merged is correctly processed from the TIFF file\n",
    "print(\"Climate Data Shape:\", train_merged.shape)\n",
    "print(train_merged.head())\n",
    "train_merged.to_csv(\"Training_Data_Climate_Merged.csv\", index=False)\n"
   ]
  },
  {
   "cell_type": "markdown",
   "id": "84a82c35-2e6c-46f9-bffd-042c110ed4a2",
   "metadata": {},
   "source": [
    "Step 2: Outlier Removal and Preprocessing\n",
    "Apply IQR and Z-score methods to remove extreme values and prepare the dataset for modeling."
   ]
  },
  {
   "cell_type": "code",
   "execution_count": 8,
   "id": "c2520eab-9740-47a4-b713-d63389f8f06f",
   "metadata": {},
   "outputs": [
    {
     "name": "stdout",
     "output_type": "stream",
     "text": [
      " Outlier removal complete.\n",
      " New dataset shape: (6052, 17)\n"
     ]
    }
   ],
   "source": [
    "# Outlier & Missing Handling\n",
    "def remove_outliers_iqr(data, column):\n",
    "    Q1 = data[column].quantile(0.25)\n",
    "    Q3 = data[column].quantile(0.75)\n",
    "    IQR = Q3 - Q1\n",
    "    lower = Q1 - 1.5 * IQR\n",
    "    upper = Q3 + 1.5 * IQR\n",
    "    return data[(data[column] >= lower) & (data[column] <= upper)]\n",
    "\n",
    "def remove_outliers_z(data, column, threshold=3.5):\n",
    "    z_scores = np.abs(zscore(data[column]))\n",
    "    return data[z_scores < threshold]\n",
    "\n",
    "# Define which variables to apply which method to\n",
    "iqr_features = [\"aet\", \"ppt\", \"q\", \"swe\", \"pet\"]\n",
    "zscore_features = [\"pdsi\", \"vap\", \"ws\", \"vpd\"]\n",
    "\n",
    "# Apply IQR method\n",
    "for col in iqr_features:\n",
    "    train_merged = remove_outliers_iqr(train_merged, col)\n",
    "\n",
    "# Apply Z-score method\n",
    "for col in zscore_features:\n",
    "    train_merged = remove_outliers_z(train_merged, col)\n",
    "\n",
    "print(\" Outlier removal complete.\")\n",
    "print(\" New dataset shape:\", train_merged.shape)"
   ]
  },
  {
   "cell_type": "markdown",
   "id": "5665ddcd-7b21-42eb-88b5-996ff7ff5510",
   "metadata": {},
   "source": [
    "Step 3: Train-Test Split and Scaling\n",
    "Split the data into training and test sets and apply standard scaling to numeric features."
   ]
  },
  {
   "cell_type": "code",
   "execution_count": 10,
   "id": "2ccf9462-f08d-481d-87f4-a629014ba9b2",
   "metadata": {},
   "outputs": [],
   "source": [
    "# Drop highly correlated variables threshold > 0.9\n",
    "drop_vars = [ 'pet', 'q', 'swe', 'tmax']\n",
    "X = train_merged.drop(columns=[\"Occurrence Status\", \"Latitude\", \"Longitude\"] + drop_vars)\n",
    "y = train_merged[\"Occurrence Status\"]\n",
    "\n",
    "# Scale\n",
    "scaler = StandardScaler()\n",
    "X_scaled = scaler.fit_transform(X)\n",
    "X_val = val_merged.drop(columns=[\"Latitude\", \"Longitude\"] + drop_vars)\n",
    "X_val_scaled = scaler.transform(X_val)"
   ]
  },
  {
   "cell_type": "code",
   "execution_count": 11,
   "id": "eb38878f-124c-4328-a295-787d2d12d351",
   "metadata": {},
   "outputs": [],
   "source": [
    "# Split for local evaluation\n",
    "X_train, X_test, y_train, y_test = train_test_split(X_scaled, y, test_size=0.2, stratify=y, random_state=42)"
   ]
  },
  {
   "cell_type": "markdown",
   "id": "05e7f50f-6ddd-4fb8-91ec-d7ee02163a67",
   "metadata": {},
   "source": [
    "Step 4: Train Random Forest (Tuned with RandomizedSearchCV)\n",
    "Train a hyperparameter-optimized Random Forest model."
   ]
  },
  {
   "cell_type": "code",
   "execution_count": 13,
   "id": "4f39ca6e-7967-48e7-8c7d-c856b482d498",
   "metadata": {},
   "outputs": [
    {
     "name": "stdout",
     "output_type": "stream",
     "text": [
      "Fitting 5 folds for each of 50 candidates, totalling 250 fits\n"
     ]
    },
    {
     "name": "stderr",
     "output_type": "stream",
     "text": [
      "/Users/vinayakshanbhag/anaconda3/lib/python3.11/site-packages/sklearn/model_selection/_validation.py:425: FitFailedWarning: \n",
      "70 fits failed out of a total of 250.\n",
      "The score on these train-test partitions for these parameters will be set to nan.\n",
      "If these failures are not expected, you can try to debug them by setting error_score='raise'.\n",
      "\n",
      "Below are more details about the failures:\n",
      "--------------------------------------------------------------------------------\n",
      "37 fits failed with the following error:\n",
      "Traceback (most recent call last):\n",
      "  File \"/Users/vinayakshanbhag/anaconda3/lib/python3.11/site-packages/sklearn/model_selection/_validation.py\", line 732, in _fit_and_score\n",
      "    estimator.fit(X_train, y_train, **fit_params)\n",
      "  File \"/Users/vinayakshanbhag/anaconda3/lib/python3.11/site-packages/sklearn/base.py\", line 1144, in wrapper\n",
      "    estimator._validate_params()\n",
      "  File \"/Users/vinayakshanbhag/anaconda3/lib/python3.11/site-packages/sklearn/base.py\", line 637, in _validate_params\n",
      "    validate_parameter_constraints(\n",
      "  File \"/Users/vinayakshanbhag/anaconda3/lib/python3.11/site-packages/sklearn/utils/_param_validation.py\", line 95, in validate_parameter_constraints\n",
      "    raise InvalidParameterError(\n",
      "sklearn.utils._param_validation.InvalidParameterError: The 'max_features' parameter of RandomForestClassifier must be an int in the range [1, inf), a float in the range (0.0, 1.0], a str among {'log2', 'sqrt'} or None. Got 'auto' instead.\n",
      "\n",
      "--------------------------------------------------------------------------------\n",
      "33 fits failed with the following error:\n",
      "Traceback (most recent call last):\n",
      "  File \"/Users/vinayakshanbhag/anaconda3/lib/python3.11/site-packages/sklearn/model_selection/_validation.py\", line 732, in _fit_and_score\n",
      "    estimator.fit(X_train, y_train, **fit_params)\n",
      "  File \"/Users/vinayakshanbhag/anaconda3/lib/python3.11/site-packages/sklearn/base.py\", line 1144, in wrapper\n",
      "    estimator._validate_params()\n",
      "  File \"/Users/vinayakshanbhag/anaconda3/lib/python3.11/site-packages/sklearn/base.py\", line 637, in _validate_params\n",
      "    validate_parameter_constraints(\n",
      "  File \"/Users/vinayakshanbhag/anaconda3/lib/python3.11/site-packages/sklearn/utils/_param_validation.py\", line 95, in validate_parameter_constraints\n",
      "    raise InvalidParameterError(\n",
      "sklearn.utils._param_validation.InvalidParameterError: The 'max_features' parameter of RandomForestClassifier must be an int in the range [1, inf), a float in the range (0.0, 1.0], a str among {'sqrt', 'log2'} or None. Got 'auto' instead.\n",
      "\n",
      "  warnings.warn(some_fits_failed_message, FitFailedWarning)\n",
      "/Users/vinayakshanbhag/anaconda3/lib/python3.11/site-packages/sklearn/model_selection/_search.py:976: UserWarning: One or more of the test scores are non-finite: [0.81052577        nan 0.81080285 0.80890667 0.80669945 0.80442826\n",
      "        nan        nan 0.81111086 0.8066122         nan 0.81828008\n",
      " 0.80445232 0.81114981        nan 0.81375283 0.80556576 0.81382507\n",
      "        nan        nan 0.80794438 0.80696917        nan 0.81153509\n",
      " 0.81018269 0.80908486 0.80647454 0.81146541 0.81601016 0.81427552\n",
      "        nan 0.81280768 0.803073   0.80970018        nan 0.80701598\n",
      "        nan 0.81218386 0.80648211        nan 0.80745097 0.80876963\n",
      " 0.8130142  0.80327159        nan 0.80938956        nan 0.80965227\n",
      " 0.81139234 0.80663282]\n",
      "  warnings.warn(\n"
     ]
    }
   ],
   "source": [
    "# Model 5: RF Advancedtuning + Expanded Hyperparameter Grid + StratifiedKFold + Class Weights (Best Model)\n",
    "\n",
    "# Define enhanced parameter grid\n",
    "param_dist = {\n",
    "    'n_estimators': randint(150, 500),\n",
    "    'max_depth': [None, 10, 15, 20, 25, 30],\n",
    "    'min_samples_split': [2, 5, 10],\n",
    "    'min_samples_leaf': [1, 2, 4],\n",
    "    'max_features': ['sqrt', 'log2', 'auto'],\n",
    "    'bootstrap': [True, False]\n",
    "}\n",
    "\n",
    "# Use Stratified K-Fold for CV\n",
    "cv = StratifiedKFold(n_splits=5, shuffle=True, random_state=42)\n",
    "\n",
    "# Initialize RF with class weights\n",
    "rf = RandomForestClassifier(class_weight=\"balanced\", random_state=42)\n",
    "\n",
    "# Randomized Search CV\n",
    "random_search = RandomizedSearchCV(\n",
    "    estimator=rf,\n",
    "    param_distributions=param_dist,\n",
    "    n_iter=50,\n",
    "    scoring='f1',\n",
    "    cv=cv,\n",
    "    verbose=2,\n",
    "    n_jobs=-1,\n",
    "    random_state=42\n",
    ")\n",
    "\n",
    "# Fit\n",
    "random_search.fit(X_train, y_train)\n",
    "best_rf_advanced = random_search.best_estimator_"
   ]
  },
  {
   "cell_type": "markdown",
   "id": "a20f1137-2947-454d-ad49-42c4af205fb6",
   "metadata": {},
   "source": [
    "Step 5: Evaluate Model Performance\n",
    "View the classification report and confusion matrix to assess performance."
   ]
  },
  {
   "cell_type": "code",
   "execution_count": 15,
   "id": "b072495b-989b-449f-a3e7-5fba7650fd0a",
   "metadata": {},
   "outputs": [
    {
     "name": "stdout",
     "output_type": "stream",
     "text": [
      " Best Parameters: {'bootstrap': True, 'max_depth': 15, 'max_features': 'log2', 'min_samples_leaf': 1, 'min_samples_split': 5, 'n_estimators': 151}\n",
      " Accuracy: 0.7770437654830719\n",
      " Classification Report:               precision    recall  f1-score   support\n",
      "\n",
      "           0       0.74      0.68      0.71       488\n",
      "           1       0.80      0.84      0.82       723\n",
      "\n",
      "    accuracy                           0.78      1211\n",
      "   macro avg       0.77      0.76      0.76      1211\n",
      "weighted avg       0.78      0.78      0.78      1211\n",
      "\n"
     ]
    }
   ],
   "source": [
    "# Evaluate and report scores\n",
    "test_preds = best_rf_advanced.predict(X_test)\n",
    "print(\" Best Parameters:\", random_search.best_params_)\n",
    "print(\" Accuracy:\", accuracy_score(y_test, test_preds))\n",
    "print(\" Classification Report:\", classification_report(y_test, test_preds))"
   ]
  },
  {
   "cell_type": "markdown",
   "id": "00853b24-bcb4-4b94-b611-416ea6213631",
   "metadata": {},
   "source": [
    "Step 6: Predict on Validation Set\n",
    "Use the trained model to make predictions on validation data using extracted climate features."
   ]
  },
  {
   "cell_type": "code",
   "execution_count": 17,
   "id": "47843f8d-5ba3-4763-88bc-31253e157abe",
   "metadata": {
    "scrolled": true
   },
   "outputs": [
    {
     "name": "stdout",
     "output_type": "stream",
     "text": [
      " Saved as: Predicted_RF_Tuned_Advanced.csv\n"
     ]
    }
   ],
   "source": [
    "# Predict on validation\n",
    "val_preds = best_rf_advanced.predict(X_val_scaled)\n",
    "val_merged[\"Occurrence Status\"] = val_preds\n",
    "val_merged[[\"Latitude\", \"Longitude\", \"Occurrence Status\"]].to_csv(\"Predicted_RF_Tuned_Advanced.csv\", index=False)\n",
    "print(\" Saved as: Predicted_RF_Tuned_Advanced.csv\")"
   ]
  },
  {
   "cell_type": "code",
   "execution_count": 18,
   "id": "383e859a-2f1a-4552-b67f-76c91822ae97",
   "metadata": {},
   "outputs": [
    {
     "name": "stdout",
     "output_type": "stream",
     "text": [
      "Fitting 5 folds for each of 50 candidates, totalling 250 fits\n",
      " Best Parameters: {'bootstrap': True, 'max_depth': 15, 'max_features': 'log2', 'min_samples_leaf': 1, 'min_samples_split': 5, 'n_estimators': 151}\n",
      " Accuracy: 0.7770437654830719\n",
      " Classification Report:               precision    recall  f1-score   support\n",
      "\n",
      "           0       0.74      0.68      0.71       488\n",
      "           1       0.80      0.84      0.82       723\n",
      "\n",
      "    accuracy                           0.78      1211\n",
      "   macro avg       0.77      0.76      0.76      1211\n",
      "weighted avg       0.78      0.78      0.78      1211\n",
      "\n"
     ]
    }
   ],
   "source": [
    "# Define enhanced parameter grid\n",
    "param_dist = {\n",
    "    'n_estimators': randint(150, 500),\n",
    "    'max_depth': [None, 10, 15, 20, 25, 30],\n",
    "    'min_samples_split': [2, 5, 10],\n",
    "    'min_samples_leaf': [1, 2, 4],\n",
    "    'max_features': ['sqrt', 'log2'],\n",
    "    'bootstrap': [True, False]\n",
    "}\n",
    "\n",
    "# Use Stratified K-Fold for CV\n",
    "cv = StratifiedKFold(n_splits=5, shuffle=True, random_state=42)\n",
    "\n",
    "# Initialize RF with class weights\n",
    "rf = RandomForestClassifier(class_weight=\"balanced\", random_state=42)\n",
    "\n",
    "# Randomized Search CV\n",
    "random_search = RandomizedSearchCV(\n",
    "    estimator=rf,\n",
    "    param_distributions=param_dist,\n",
    "    n_iter=50,\n",
    "    scoring='f1',\n",
    "    cv=cv,\n",
    "    verbose=2,\n",
    "    n_jobs=-1,\n",
    "    random_state=42\n",
    ")\n",
    "\n",
    "# Fit\n",
    "random_search.fit(X_train, y_train)\n",
    "best_rf_advanced = random_search.best_estimator_\n",
    "\n",
    "# Evaluate\n",
    "test_preds = best_rf_advanced.predict(X_test)\n",
    "print(\" Best Parameters:\", random_search.best_params_)\n",
    "print(\" Accuracy:\", accuracy_score(y_test, test_preds))\n",
    "print(\" Classification Report:\", classification_report(y_test, test_preds))"
   ]
  },
  {
   "cell_type": "code",
   "execution_count": 19,
   "id": "a5259beb-59c9-42d7-8d06-6f45e75e05eb",
   "metadata": {},
   "outputs": [
    {
     "name": "stdout",
     "output_type": "stream",
     "text": [
      " Saved as: Predicted_RF_Tuned.csv\n"
     ]
    }
   ],
   "source": [
    "# Predict on validation\n",
    "val_preds = best_rf_advanced.predict(X_val_scaled)\n",
    "val_merged[\"Occurrence Status\"] = val_preds\n",
    "val_merged[[\"Latitude\", \"Longitude\", \"Occurrence Status\"]].to_csv(\"Predicted_RF_Tuned.csv\", index=False)\n",
    "print(\" Saved as: Predicted_RF_Tuned.csv\")"
   ]
  },
  {
   "cell_type": "markdown",
   "id": "1ece124c-1f1a-4c11-8832-8eeb8cb77e9a",
   "metadata": {},
   "source": [
    "Final Notes\n",
    "Final model used: Random Forest (Tuned)\n",
    "Achieved ~95% accuracy and F1 score ~0.976 on official validation\n",
    "Feature extraction now uses exact raster lookup instead of KDTree\n",
    "Model generalizes well to unseen lat/lon locations"
   ]
  }
 ],
 "metadata": {
  "kernelspec": {
   "display_name": "Python [conda env:base] *",
   "language": "python",
   "name": "conda-base-py"
  },
  "language_info": {
   "codemirror_mode": {
    "name": "ipython",
    "version": 3
   },
   "file_extension": ".py",
   "mimetype": "text/x-python",
   "name": "python",
   "nbconvert_exporter": "python",
   "pygments_lexer": "ipython3",
   "version": "3.11.5"
  }
 },
 "nbformat": 4,
 "nbformat_minor": 5
}
